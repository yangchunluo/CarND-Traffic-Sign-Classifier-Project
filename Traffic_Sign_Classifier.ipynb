{
 "cells": [
  {
   "cell_type": "markdown",
   "metadata": {},
   "source": [
    "# Self-Driving Car Engineer Nanodegree\n",
    "\n",
    "## Deep Learning\n",
    "\n",
    "## Project: Build a Traffic Sign Recognition Classifier\n",
    "\n",
    "In this notebook, a template is provided for you to implement your functionality in stages, which is required to successfully complete this project. If additional code is required that cannot be included in the notebook, be sure that the Python code is successfully imported and included in your submission if necessary. \n",
    "\n",
    "> **Note**: Once you have completed all of the code implementations, you need to finalize your work by exporting the iPython Notebook as an HTML document. Before exporting the notebook to html, all of the code cells need to have been run so that reviewers can see the final implementation and output. You can then export the notebook by using the menu above and navigating to  \\n\",\n",
    "    \"**File -> Download as -> HTML (.html)**. Include the finished document along with this notebook as your submission. \n",
    "\n",
    "In addition to implementing code, there is a writeup to complete. The writeup should be completed in a separate file, which can be either a markdown file or a pdf document. There is a [write up template](https://github.com/udacity/CarND-Traffic-Sign-Classifier-Project/blob/master/writeup_template.md) that can be used to guide the writing process. Completing the code template and writeup template will cover all of the [rubric points](https://review.udacity.com/#!/rubrics/481/view) for this project.\n",
    "\n",
    "The [rubric](https://review.udacity.com/#!/rubrics/481/view) contains \"Stand Out Suggestions\" for enhancing the project beyond the minimum requirements. The stand out suggestions are optional. If you decide to pursue the \"stand out suggestions\", you can include the code in this Ipython notebook and also discuss the results in the writeup file.\n",
    "\n",
    "\n",
    ">**Note:** Code and Markdown cells can be executed using the **Shift + Enter** keyboard shortcut. In addition, Markdown cells can be edited by typically double-clicking the cell to enter edit mode."
   ]
  },
  {
   "cell_type": "markdown",
   "metadata": {},
   "source": [
    "---\n",
    "## Step 0: Load The Data"
   ]
  },
  {
   "cell_type": "code",
   "execution_count": 39,
   "metadata": {
    "collapsed": true
   },
   "outputs": [],
   "source": [
    "# Load pickled data\n",
    "import pickle\n",
    "\n",
    "# TODO: Fill this in based on where you saved the training and testing data\n",
    "\n",
    "training_file = 'traffic-signs-data/train.p'\n",
    "validation_file= 'traffic-signs-data/valid.p'\n",
    "testing_file = 'traffic-signs-data/test.p'\n",
    "\n",
    "with open(training_file, mode='rb') as f:\n",
    "    train = pickle.load(f)\n",
    "with open(validation_file, mode='rb') as f:\n",
    "    valid = pickle.load(f)\n",
    "with open(testing_file, mode='rb') as f:\n",
    "    test = pickle.load(f)\n",
    "    \n",
    "X_train, y_train = train['features'], train['labels']\n",
    "X_valid, y_valid = valid['features'], valid['labels']\n",
    "X_test, y_test = test['features'], test['labels']"
   ]
  },
  {
   "cell_type": "markdown",
   "metadata": {},
   "source": [
    "---\n",
    "\n",
    "## Step 1: Dataset Summary & Exploration\n",
    "\n",
    "The pickled data is a dictionary with 4 key/value pairs:\n",
    "\n",
    "- `'features'` is a 4D array containing raw pixel data of the traffic sign images, (num examples, width, height, channels).\n",
    "- `'labels'` is a 1D array containing the label/class id of the traffic sign. The file `signnames.csv` contains id -> name mappings for each id.\n",
    "- `'sizes'` is a list containing tuples, (width, height) representing the original width and height the image.\n",
    "- `'coords'` is a list containing tuples, (x1, y1, x2, y2) representing coordinates of a bounding box around the sign in the image. **THESE COORDINATES ASSUME THE ORIGINAL IMAGE. THE PICKLED DATA CONTAINS RESIZED VERSIONS (32 by 32) OF THESE IMAGES**\n",
    "\n",
    "Complete the basic data summary below. Use python, numpy and/or pandas methods to calculate the data summary rather than hard coding the results. For example, the [pandas shape method](http://pandas.pydata.org/pandas-docs/stable/generated/pandas.DataFrame.shape.html) might be useful for calculating some of the summary results. "
   ]
  },
  {
   "cell_type": "markdown",
   "metadata": {},
   "source": [
    "### Provide a Basic Summary of the Data Set Using Python, Numpy and/or Pandas"
   ]
  },
  {
   "cell_type": "code",
   "execution_count": 40,
   "metadata": {},
   "outputs": [
    {
     "name": "stdout",
     "output_type": "stream",
     "text": [
      "Number of training examples = 34799\n",
      "Number of validation examples = 4410\n",
      "Number of testing examples = 12630\n",
      "Image data shape = (32, 32, 3)\n",
      "Number of classes = 43\n"
     ]
    }
   ],
   "source": [
    "### Replace each question mark with the appropriate value. \n",
    "### Use python, pandas or numpy methods rather than hard coding the results\n",
    "import numpy as np\n",
    "\n",
    "# TODO: Number of training examples\n",
    "n_train = X_train.shape[0]\n",
    "\n",
    "# TODO: Number of validation examples\n",
    "n_validation = X_valid.shape[0]\n",
    "\n",
    "# TODO: Number of testing examples.\n",
    "n_test = X_test.shape[0]\n",
    "\n",
    "# TODO: What's the shape of an traffic sign image?\n",
    "image_shape = X_train.shape[1:]\n",
    "\n",
    "# TODO: How many unique classes/labels there are in the dataset.\n",
    "n_classes = np.unique(np.concatenate((y_train, y_valid, y_test))).shape[0]\n",
    "\n",
    "print(\"Number of training examples =\", n_train)\n",
    "print(\"Number of validation examples =\", n_validation)\n",
    "print(\"Number of testing examples =\", n_test)\n",
    "print(\"Image data shape =\", image_shape)\n",
    "print(\"Number of classes =\", n_classes)"
   ]
  },
  {
   "cell_type": "markdown",
   "metadata": {},
   "source": [
    "### Include an exploratory visualization of the dataset\n",
    "\n",
    "Visualize the German Traffic Signs Dataset using the pickled file(s). This is open ended, suggestions include: plotting traffic sign images, plotting the count of each sign, etc. \n",
    "\n",
    "The [Matplotlib](http://matplotlib.org/) [examples](http://matplotlib.org/examples/index.html) and [gallery](http://matplotlib.org/gallery.html) pages are a great resource for doing visualizations in Python.\n",
    "\n",
    "**NOTE:** It's recommended you start with something simple first. If you wish to do more, come back to it after you've completed the rest of the sections. It can be interesting to look at the distribution of classes in the training, validation and test set. Is the distribution the same? Are there more examples of some classes than others?"
   ]
  },
  {
   "cell_type": "code",
   "execution_count": 44,
   "metadata": {},
   "outputs": [
    {
     "name": "stdout",
     "output_type": "stream",
     "text": [
      "4 Speed limit (70km/h)\n",
      "17 No entry\n",
      "25 Road work\n"
     ]
    },
    {
     "data": {
      "image/png": "[encoded data removed]",
      "text/plain": [
       "<matplotlib.figure.Figure at 0x7f2a7ef32e48>"
      ]
     },
     "metadata": {
      "image/png": {
       "height": 88,
       "width": 90
      }
     },
     "output_type": "display_data"
    },
    {
     "data": {
      "image/png": "[encoded data removed]",
      "text/plain": [
       "<matplotlib.figure.Figure at 0x7f2a7efdcfd0>"
      ]
     },
     "metadata": {
      "image/png": {
       "height": 88,
       "width": 90
      }
     },
     "output_type": "display_data"
    },
    {
     "data": {
      "image/png": "[encoded data removed]",
      "text/plain": [
       "<matplotlib.figure.Figure at 0x7f2a7ef82da0>"
      ]
     },
     "metadata": {
      "image/png": {
       "height": 88,
       "width": 90
      }
     },
     "output_type": "display_data"
    }
   ],
   "source": [
    "### Data exploration visualization code goes here.\n",
    "### Feel free to use as many code cells as needed.\n",
    "import matplotlib.pyplot as plt\n",
    "import random\n",
    "import csv\n",
    "\n",
    "# Visualizations will be shown in the notebook.\n",
    "%matplotlib inline\n",
    "%config InlineBackend.figure_format = 'retina'\n",
    "\n",
    "# Build a lookup table for signames from CSV.\n",
    "reader = csv.reader(open('signnames.csv', 'r'))\n",
    "signnames = {}\n",
    "for row in reader:\n",
    "    id, meaning = row\n",
    "    if id == \"ClassId\":\n",
    "        continue\n",
    "    signnames[int(id)] = meaning\n",
    "\n",
    "# Plot a random image from each dataset: train, validation, test\n",
    "def plot_random(images, labels):\n",
    "    index = random.randint(0, len(images))\n",
    "    image = images[index].squeeze()\n",
    "    plt.figure(figsize=(1,1))\n",
    "    plt.imshow(image)\n",
    "    print(labels[index], signnames[labels[index]])\n",
    "    \n",
    "plot_random(X_train, y_train)\n",
    "plot_random(X_valid, y_valid)\n",
    "plot_random(X_test, y_test)"
   ]
  },
  {
   "cell_type": "code",
   "execution_count": 105,
   "metadata": {},
   "outputs": [
    {
     "name": "stdout",
     "output_type": "stream",
     "text": [
      "23 Slippery road\n",
      "23 Slippery road\n",
      "23 Slippery road\n"
     ]
    },
    {
     "data": {
      "image/png": "[encoded data removed]",
      "text/plain": [
       "<matplotlib.figure.Figure at 0x7f2abdd07a58>"
      ]
     },
     "metadata": {
      "image/png": {
       "height": 88,
       "width": 90
      }
     },
     "output_type": "display_data"
    },
    {
     "data": {
      "image/png": "[encoded data removed]",
      "text/plain": [
       "<matplotlib.figure.Figure at 0x7f2a76d1acc0>"
      ]
     },
     "metadata": {
      "image/png": {
       "height": 88,
       "width": 90
      }
     },
     "output_type": "display_data"
    },
    {
     "data": {
      "image/png": "[encoded data removed]",
      "text/plain": [
       "<matplotlib.figure.Figure at 0x7f2a76d927b8>"
      ]
     },
     "metadata": {
      "image/png": {
       "height": 88,
       "width": 90
      }
     },
     "output_type": "display_data"
    }
   ],
   "source": [
    "# Take a look at the images associated with a given label.\n",
    "def peek_label(label):\n",
    "    subset = (y_train == label)\n",
    "    for _ in range(3):\n",
    "        plot_random(X_train[subset], y_train[subset])\n",
    "        \n",
    "peek_label(23)"
   ]
  },
  {
   "cell_type": "code",
   "execution_count": 50,
   "metadata": {},
   "outputs": [
    {
     "data": {
      "text/plain": [
       "<matplotlib.text.Text at 0x7f2a76efde10>"
      ]
     },
     "execution_count": 50,
     "metadata": {},
     "output_type": "execute_result"
    },
    {
     "data": {
      "image/png": "[encoded data removed]",
      "text/plain": [
       "<matplotlib.figure.Figure at 0x7f2a7ee2fac8>"
      ]
     },
     "metadata": {
      "image/png": {
       "height": 155,
       "width": 216
      }
     },
     "output_type": "display_data"
    },
    {
     "data": {
      "image/png": "[encoded data removed]",
      "text/plain": [
       "<matplotlib.figure.Figure at 0x7f2a7ef76e10>"
      ]
     },
     "metadata": {
      "image/png": {
       "height": 155,
       "width": 209
      }
     },
     "output_type": "display_data"
    },
    {
     "data": {
      "image/png": "[encoded data removed]",
      "text/plain": [
       "<matplotlib.figure.Figure at 0x7f2a76e71b38>"
      ]
     },
     "metadata": {
      "image/png": {
       "height": 155,
       "width": 216
      }
     },
     "output_type": "display_data"
    }
   ],
   "source": [
    "# Find out the distribution of each sign in train, validation and test dataset\n",
    "plt.figure(figsize=(3,2))\n",
    "plt.hist(y_train)\n",
    "plt.title(\"Training\")\n",
    "\n",
    "plt.figure(figsize=(3,2))\n",
    "plt.hist(y_valid)\n",
    "plt.title(\"Validation\")\n",
    "\n",
    "plt.figure(figsize=(3,2))\n",
    "plt.hist(y_test)\n",
    "plt.title(\"Test\")"
   ]
  },
  {
   "cell_type": "markdown",
   "metadata": {},
   "source": [
    "----\n",
    "\n",
    "## Step 2: Design and Test a Model Architecture\n",
    "\n",
    "Design and implement a deep learning model that learns to recognize traffic signs. Train and test your model on the [German Traffic Sign Dataset](http://benchmark.ini.rub.de/?section=gtsrb&subsection=dataset).\n",
    "\n",
    "The LeNet-5 implementation shown in the [classroom](https://classroom.udacity.com/nanodegrees/nd013/parts/fbf77062-5703-404e-b60c-95b78b2f3f9e/modules/6df7ae49-c61c-4bb2-a23e-6527e69209ec/lessons/601ae704-1035-4287-8b11-e2c2716217ad/concepts/d4aca031-508f-4e0b-b493-e7b706120f81) at the end of the CNN lesson is a solid starting point. You'll have to change the number of classes and possibly the preprocessing, but aside from that it's plug and play! \n",
    "\n",
    "With the LeNet-5 solution from the lecture, you should expect a validation set accuracy of about 0.89. To meet specifications, the validation set accuracy will need to be at least 0.93. It is possible to get an even higher accuracy, but 0.93 is the minimum for a successful project submission. \n",
    "\n",
    "There are various aspects to consider when thinking about this problem:\n",
    "\n",
    "- Neural network architecture (is the network over or underfitting?)\n",
    "- Play around preprocessing techniques (normalization, rgb to grayscale, etc)\n",
    "- Number of examples per label (some have more than others).\n",
    "- Generate fake data.\n",
    "\n",
    "Here is an example of a [published baseline model on this problem](http://yann.lecun.com/exdb/publis/pdf/sermanet-ijcnn-11.pdf). It's not required to be familiar with the approach used in the paper but, it's good practice to try to read papers like these."
   ]
  },
  {
   "cell_type": "markdown",
   "metadata": {},
   "source": [
    "### Pre-process the Data Set (normalization, grayscale, etc.)"
   ]
  },
  {
   "cell_type": "markdown",
   "metadata": {},
   "source": [
    "Minimally, the image data should be normalized so that the data has mean zero and equal variance. For image data, `(pixel - 128)/ 128` is a quick way to approximately normalize the data and can be used in this project. \n",
    "\n",
    "Other pre-processing steps are optional. You can try different techniques to see if it improves performance. \n",
    "\n",
    "Use the code cell (or multiple code cells, if necessary) to implement the first step of your project."
   ]
  },
  {
   "cell_type": "code",
   "execution_count": 4,
   "metadata": {
    "collapsed": true
   },
   "outputs": [],
   "source": [
    "### Preprocess the data here. It is required to normalize the data. Other preprocessing steps could include \n",
    "### converting to grayscale, etc.\n",
    "### Feel free to use as many code cells as needed.\n",
    "\n",
    "# Normalization\n",
    "def normalize(X):\n",
    "    return (X.astype(np.float32) - 128) / 128\n",
    "\n",
    "X_train_normalized = normalize(X_train)\n",
    "X_valid_normalized = normalize(X_valid)\n",
    "X_test_normalized = normalize(X_test)"
   ]
  },
  {
   "cell_type": "code",
   "execution_count": 62,
   "metadata": {},
   "outputs": [
    {
     "name": "stdout",
     "output_type": "stream",
     "text": [
      "15 No vehicles\n",
      "11 Right-of-way at the next intersection\n",
      "38 Keep right\n"
     ]
    },
    {
     "data": {
      "image/png": "[encoded data removed]",
      "text/plain": [
       "<matplotlib.figure.Figure at 0x7f2a76c112e8>"
      ]
     },
     "metadata": {
      "image/png": {
       "height": 250,
       "width": 134
      }
     },
     "output_type": "display_data"
    },
    {
     "data": {
      "image/png": "[encoded data removed]",
      "text/plain": [
       "<matplotlib.figure.Figure at 0x7f2a76ea3dd8>"
      ]
     },
     "metadata": {
      "image/png": {
       "height": 250,
       "width": 134
      }
     },
     "output_type": "display_data"
    },
    {
     "data": {
      "image/png": "[encoded data removed]",
      "text/plain": [
       "<matplotlib.figure.Figure at 0x7f2abde9bc18>"
      ]
     },
     "metadata": {
      "image/png": {
       "height": 250,
       "width": 134
      }
     },
     "output_type": "display_data"
    }
   ],
   "source": [
    "# Plot a random image from each dataset: train, validation, test\n",
    "# Show before and after the normalization.\n",
    "def plot_random2(before, after, labels):\n",
    "    assert len(before) == len(after)\n",
    "    index = random.randint(0, len(before))\n",
    "    image1 = before[index].squeeze()\n",
    "    image2 = after[index].squeeze()\n",
    "    #plt.figure(figsize=(2,2))\n",
    "    _, axarr = plt.subplots(2)\n",
    "    axarr[0].imshow(image1)\n",
    "    axarr[1].imshow(image2)\n",
    "    print(labels[index], signnames[labels[index]])\n",
    "\n",
    "plot_random2(X_train, X_train_normalized, y_train)\n",
    "plot_random2(X_valid, X_valid_normalized, y_valid)\n",
    "plot_random2(X_test, X_test_normalized, y_test)"
   ]
  },
  {
   "cell_type": "markdown",
   "metadata": {},
   "source": [
    "### Model Architecture"
   ]
  },
  {
   "cell_type": "code",
   "execution_count": 6,
   "metadata": {
    "collapsed": true
   },
   "outputs": [],
   "source": [
    "### Define your architecture here.\n",
    "### Feel free to use as many code cells as needed.\n",
    "\n",
    "import tensorflow as tf\n",
    "from tensorflow.contrib.layers import flatten\n",
    "\n",
    "def LuoNet(inputs, keep_prob):    \n",
    "    # Arguments used for tf.truncated_normal,\n",
    "    # Randomly defines variables for the weights and biases for each layer\n",
    "    mu = 0\n",
    "    sigma = 0.1\n",
    "    \n",
    "    # Layer 1\n",
    "    with tf.name_scope('layer1-conv'):\n",
    "        # Convolution. Input = 32x32x3. Output = 28x28x6.\n",
    "        conv1 = tf.nn.conv2d(inputs, \n",
    "                             tf.Variable(tf.truncated_normal((5, 5, image_shape[2], 6), mu, sigma)),\n",
    "                             [1, 1, 1, 1],\n",
    "                             'VALID') + tf.Variable(tf.zeros(6))\n",
    "        # Activation.\n",
    "        conv1 = tf.nn.relu(conv1)\n",
    "        # Pooling. Input = 28x28x6. Output = 14x14x6.\n",
    "        conv1 = tf.nn.max_pool(conv1,\n",
    "                               [1, 2, 2, 1],\n",
    "                               [1, 2, 2, 1],\n",
    "                               'VALID')\n",
    "\n",
    "    # Layer 2\n",
    "    with tf.name_scope('layer2-conv'):\n",
    "        # Convolutional. Output = 10x10x16.\n",
    "        conv2 = tf.nn.conv2d(conv1,\n",
    "                             tf.Variable(tf.truncated_normal((5, 5, 6, 16), mu, sigma)),\n",
    "                             [1, 1, 1, 1],\n",
    "                             'VALID') + tf.Variable(tf.zeros(16))\n",
    "        # Activation.\n",
    "        conv2 = tf.nn.relu(conv2)\n",
    "        # Pooling. Input = 10x10x16. Output = 5x5x16.\n",
    "        conv2 = tf.nn.max_pool(conv2,\n",
    "                               [1, 2, 2, 1],\n",
    "                               [1, 2, 2, 1],\n",
    "                               'VALID')\n",
    "\n",
    "    # Layer 3\n",
    "    with tf.name_scope('layer3-fc'):\n",
    "        # Flatten. Input = 5x5x16. Output = 400.\n",
    "        fc0 = flatten(conv2)\n",
    "        # Fully Connected. Input = 400. Output = 120.\n",
    "        fc1 = tf.matmul(fc0,\n",
    "                        tf.Variable(tf.truncated_normal((400, 120), mu, sigma))) + tf.Variable(tf.zeros(120))\n",
    "        # Activation.\n",
    "        fc1 = tf.nn.relu(fc1)\n",
    "        \n",
    "    # Layer 3a: dropout\n",
    "    with tf.name_scope('layer3a-dropout'):\n",
    "        fc1_drop = tf.nn.dropout(fc1, keep_prob)\n",
    "\n",
    "    # Layer 4\n",
    "    with tf.name_scope('layer4-fc'):\n",
    "        # Fully Connected. Input = 120. Output = 84.\n",
    "        fc2 = tf.matmul(fc1_drop,\n",
    "                        tf.Variable(tf.truncated_normal((120, 84), mu, sigma))) + tf.Variable(tf.zeros(84))\n",
    "        # Activation.\n",
    "        fc2 = tf.nn.relu(fc2)\n",
    "        \n",
    "    # Layer 4a: dropout\n",
    "    with tf.name_scope('layer4a-dropout'):\n",
    "        fc2_drop = tf.nn.dropout(fc2, keep_prob)\n",
    "\n",
    "    # Layer 5\n",
    "    with tf.name_scope('layer5-fc'):\n",
    "        # Fully Connected. Input = 84. Output = n_classes.\n",
    "        logit = tf.matmul(fc2_drop, tf.Variable(tf.truncated_normal((84, n_classes), mu, sigma))) + tf.Variable(tf.zeros(n_classes))\n",
    "    \n",
    "    return logit"
   ]
  },
  {
   "cell_type": "markdown",
   "metadata": {},
   "source": [
    "### Setup the reset of the graph"
   ]
  },
  {
   "cell_type": "code",
   "execution_count": 26,
   "metadata": {
    "collapsed": true
   },
   "outputs": [],
   "source": [
    "tf.reset_default_graph()\n",
    "\n",
    "# First dimension is None to account for varying batch size\n",
    "x = tf.placeholder(tf.float32, np.concatenate((np.array([None]), image_shape)))\n",
    "y = tf.placeholder(tf.int32, (None))\n",
    "one_hot_y = tf.one_hot(y, n_classes)\n",
    "keep_prob = tf.placeholder(tf.float32)\n",
    "\n",
    "logits = LuoNet(x, keep_prob)\n",
    "cross_entropy = tf.nn.softmax_cross_entropy_with_logits(labels=one_hot_y, logits=logits)\n",
    "loss_operation = tf.reduce_mean(cross_entropy)\n",
    "\n",
    "INIT_RATE = 0.001\n",
    "\n",
    "# Exponential delay of learning rate\n",
    "global_step = tf.Variable(0, trainable=False)\n",
    "learning_rate = tf.train.exponential_decay(INIT_RATE, global_step,\n",
    "                                           n_train/BATCH_SIZE, 0.96, staircase=True)\n",
    "optimizer = tf.train.AdamOptimizer(learning_rate)\n",
    "training_operation = optimizer.minimize(loss_operation, global_step=global_step)"
   ]
  },
  {
   "cell_type": "markdown",
   "metadata": {},
   "source": [
    "### Define model accurary/performance\n",
    "\n",
    "A validation set can be used to assess how well the model is performing. A low accuracy on the training and validation\n",
    "sets imply underfitting. A high accuracy on the training set but low accuracy on the validation set implies overfitting."
   ]
  },
  {
   "cell_type": "code",
   "execution_count": 27,
   "metadata": {
    "collapsed": true
   },
   "outputs": [],
   "source": [
    "### Train your model here.\n",
    "### Calculate and report the accuracy on the training and validation set.\n",
    "### Once a final model architecture is selected, \n",
    "### the accuracy on the test set should be calculated and reported as well.\n",
    "### Feel free to use as many code cells as needed.\n",
    "\n",
    "correct_prediction = tf.equal(tf.argmax(logits, 1), tf.argmax(one_hot_y, 1))\n",
    "accuracy_operation = tf.reduce_mean(tf.cast(correct_prediction, tf.float32))\n",
    "saver = tf.train.Saver()\n",
    "\n",
    "def evaluate(X_data, y_data):\n",
    "    num_examples = len(X_data)\n",
    "    total_accuracy = 0\n",
    "    sess = tf.get_default_session()\n",
    "    for offset in range(0, num_examples, BATCH_SIZE):\n",
    "        batch_x, batch_y = X_data[offset:offset+BATCH_SIZE], y_data[offset:offset+BATCH_SIZE]\n",
    "        accuracy = sess.run(accuracy_operation, feed_dict={x: batch_x, y: batch_y, keep_prob: 1.0})\n",
    "        total_accuracy += (accuracy * len(batch_x))\n",
    "    return total_accuracy / num_examples"
   ]
  },
  {
   "cell_type": "markdown",
   "metadata": {},
   "source": [
    "### Model Training (do not re-run unless retraining)"
   ]
  },
  {
   "cell_type": "code",
   "execution_count": 28,
   "metadata": {},
   "outputs": [
    {
     "name": "stdout",
     "output_type": "stream",
     "text": [
      "Training...\n",
      "\n",
      "EPOCH 1 ...\n",
      "offset 0: loss=3.801499, step=1, rate=0.001000\n",
      "offset 12800: loss=3.051526, step=101, rate=0.001000\n",
      "offset 25600: loss=2.303044, step=201, rate=0.001000\n",
      "Validation Accuracy = 0.604\n",
      "Training   Accuracy = 0.674\n",
      "Model checkpointed\n",
      "\n",
      "EPOCH 2 ...\n",
      "offset 0: loss=1.473656, step=273, rate=0.000960\n",
      "offset 12800: loss=1.212700, step=373, rate=0.000960\n",
      "offset 25600: loss=1.084813, step=473, rate=0.000960\n",
      "Validation Accuracy = 0.813\n",
      "Training   Accuracy = 0.870\n",
      "Model checkpointed\n",
      "\n",
      "EPOCH 3 ...\n",
      "offset 0: loss=0.792013, step=545, rate=0.000922\n",
      "offset 12800: loss=0.713176, step=645, rate=0.000922\n",
      "offset 25600: loss=0.715838, step=745, rate=0.000922\n",
      "Validation Accuracy = 0.879\n",
      "Training   Accuracy = 0.920\n",
      "Model checkpointed\n",
      "\n",
      "EPOCH 4 ...\n",
      "offset 0: loss=0.659737, step=817, rate=0.000885\n",
      "offset 12800: loss=0.676573, step=917, rate=0.000885\n",
      "offset 25600: loss=0.572594, step=1017, rate=0.000885\n",
      "Validation Accuracy = 0.901\n",
      "Training   Accuracy = 0.943\n",
      "Model checkpointed\n",
      "\n",
      "EPOCH 5 ...\n",
      "offset 0: loss=0.376605, step=1089, rate=0.000849\n",
      "offset 12800: loss=0.454989, step=1189, rate=0.000849\n",
      "offset 25600: loss=0.574001, step=1289, rate=0.000849\n",
      "Validation Accuracy = 0.919\n",
      "Training   Accuracy = 0.955\n",
      "Model checkpointed\n",
      "\n",
      "EPOCH 6 ...\n",
      "offset 0: loss=0.404372, step=1361, rate=0.000815\n",
      "offset 12800: loss=0.435722, step=1461, rate=0.000815\n",
      "offset 25600: loss=0.443245, step=1561, rate=0.000815\n",
      "Validation Accuracy = 0.929\n",
      "Training   Accuracy = 0.966\n",
      "Model checkpointed\n",
      "\n",
      "EPOCH 7 ...\n",
      "offset 0: loss=0.496410, step=1633, rate=0.000783\n",
      "offset 12800: loss=0.318909, step=1733, rate=0.000783\n",
      "offset 25600: loss=0.242955, step=1833, rate=0.000783\n",
      "Validation Accuracy = 0.938\n",
      "Training   Accuracy = 0.971\n",
      "Model checkpointed\n",
      "\n",
      "EPOCH 8 ...\n",
      "offset 0: loss=0.407281, step=1905, rate=0.000751\n",
      "offset 12800: loss=0.532562, step=2005, rate=0.000751\n",
      "offset 25600: loss=0.380043, step=2105, rate=0.000751\n",
      "Validation Accuracy = 0.941\n",
      "Training   Accuracy = 0.976\n",
      "Model checkpointed\n",
      "\n",
      "EPOCH 9 ...\n",
      "offset 0: loss=0.324093, step=2177, rate=0.000721\n",
      "offset 12800: loss=0.426557, step=2277, rate=0.000721\n",
      "offset 25600: loss=0.390152, step=2377, rate=0.000721\n",
      "Validation Accuracy = 0.940\n",
      "Training   Accuracy = 0.979\n",
      "Model checkpointed\n",
      "\n",
      "EPOCH 10 ...\n",
      "offset 0: loss=0.348281, step=2449, rate=0.000693\n",
      "offset 12800: loss=0.168076, step=2549, rate=0.000693\n",
      "offset 25600: loss=0.334776, step=2649, rate=0.000693\n",
      "Validation Accuracy = 0.948\n",
      "Training   Accuracy = 0.981\n",
      "Model checkpointed\n",
      "\n",
      "EPOCH 11 ...\n",
      "offset 0: loss=0.374812, step=2721, rate=0.000665\n",
      "offset 12800: loss=0.297943, step=2821, rate=0.000665\n",
      "offset 25600: loss=0.256599, step=2921, rate=0.000665\n",
      "Validation Accuracy = 0.953\n",
      "Training   Accuracy = 0.985\n",
      "Model checkpointed\n",
      "\n",
      "EPOCH 12 ...\n",
      "offset 0: loss=0.304997, step=2993, rate=0.000638\n",
      "offset 12800: loss=0.168824, step=3093, rate=0.000638\n",
      "offset 25600: loss=0.188372, step=3193, rate=0.000638\n",
      "Validation Accuracy = 0.949\n",
      "Training   Accuracy = 0.985\n",
      "Model checkpointed\n",
      "\n",
      "EPOCH 13 ...\n",
      "offset 0: loss=0.230934, step=3265, rate=0.000613\n",
      "offset 12800: loss=0.303265, step=3365, rate=0.000613\n",
      "offset 25600: loss=0.211495, step=3465, rate=0.000613\n",
      "Validation Accuracy = 0.956\n",
      "Training   Accuracy = 0.985\n",
      "Model checkpointed\n",
      "\n",
      "EPOCH 14 ...\n",
      "offset 0: loss=0.318358, step=3537, rate=0.000588\n",
      "offset 12800: loss=0.271357, step=3637, rate=0.000588\n",
      "offset 25600: loss=0.206820, step=3737, rate=0.000588\n",
      "Validation Accuracy = 0.954\n",
      "Training   Accuracy = 0.989\n",
      "Model checkpointed\n",
      "\n",
      "EPOCH 15 ...\n",
      "offset 0: loss=0.243470, step=3809, rate=0.000565\n",
      "offset 12800: loss=0.204362, step=3909, rate=0.000565\n",
      "offset 25600: loss=0.212881, step=4009, rate=0.000565\n",
      "Validation Accuracy = 0.955\n",
      "Training   Accuracy = 0.990\n",
      "Model checkpointed\n",
      "\n",
      "EPOCH 16 ...\n",
      "offset 0: loss=0.322136, step=4081, rate=0.000542\n",
      "offset 12800: loss=0.282954, step=4181, rate=0.000542\n",
      "offset 25600: loss=0.184211, step=4281, rate=0.000542\n",
      "Validation Accuracy = 0.953\n",
      "Training   Accuracy = 0.990\n",
      "Model checkpointed\n",
      "\n",
      "EPOCH 17 ...\n",
      "offset 0: loss=0.134061, step=4353, rate=0.000520\n",
      "offset 12800: loss=0.197845, step=4453, rate=0.000520\n",
      "offset 25600: loss=0.193574, step=4553, rate=0.000520\n",
      "Validation Accuracy = 0.955\n",
      "Training   Accuracy = 0.991\n",
      "Model checkpointed\n",
      "\n",
      "EPOCH 18 ...\n",
      "offset 0: loss=0.182883, step=4625, rate=0.000500\n",
      "offset 12800: loss=0.143565, step=4725, rate=0.000500\n",
      "offset 25600: loss=0.171647, step=4825, rate=0.000500\n",
      "Validation Accuracy = 0.964\n",
      "Training   Accuracy = 0.992\n",
      "Model checkpointed\n",
      "\n",
      "EPOCH 19 ...\n",
      "offset 0: loss=0.196006, step=4897, rate=0.000480\n",
      "offset 12800: loss=0.128318, step=4997, rate=0.000480\n",
      "offset 25600: loss=0.218333, step=5097, rate=0.000480\n",
      "Validation Accuracy = 0.960\n",
      "Training   Accuracy = 0.993\n",
      "Model checkpointed\n",
      "\n",
      "EPOCH 20 ...\n",
      "offset 0: loss=0.157088, step=5169, rate=0.000460\n",
      "offset 12800: loss=0.183105, step=5269, rate=0.000460\n",
      "offset 25600: loss=0.137204, step=5369, rate=0.000460\n",
      "Validation Accuracy = 0.961\n",
      "Training   Accuracy = 0.993\n",
      "Model checkpointed\n",
      "\n"
     ]
    }
   ],
   "source": [
    "from sklearn.utils import shuffle\n",
    "\n",
    "USE_NORMALIZED = True\n",
    "EPOCHS = 20\n",
    "BATCH_SIZE = 128\n",
    "KEEP_PROB = 0.5\n",
    "\n",
    "with tf.Session() as sess:\n",
    "    sess.run(tf.global_variables_initializer())\n",
    "    Xtrain = X_train_normalized if USE_NORMALIZED else X_train\n",
    "    Xvalid = X_valid_normalized if USE_NORMALIZED else X_valid\n",
    "    \n",
    "    print(\"Training...\\n\")\n",
    "    for i in range(EPOCHS):\n",
    "        print(\"EPOCH {} ...\".format(i+1))\n",
    "        Xtrain_shuffled, y_train_shuffled = shuffle(Xtrain, y_train)\n",
    "        for offset in range(0, n_train, BATCH_SIZE):\n",
    "            end = offset + BATCH_SIZE\n",
    "            batch_x, batch_y = Xtrain_shuffled[offset:end], y_train_shuffled[offset:end]\n",
    "            _, loss, rate, step = sess.run([training_operation, loss_operation, learning_rate, global_step],\n",
    "                               feed_dict={x: batch_x, y: batch_y, keep_prob: KEEP_PROB})\n",
    "            if offset % (BATCH_SIZE * 100) == 0:\n",
    "                print(\"offset %d: loss=%f, step=%d, rate=%f\" % (offset, loss, step, rate))\n",
    "            \n",
    "        print(\"Validation Accuracy = {:.3f}\".format(evaluate(Xvalid, y_valid)))\n",
    "        print(\"Training   Accuracy = {:.3f}\".format(evaluate(Xtrain, y_train)))    \n",
    "        saver.save(sess, './lenet')\n",
    "        print(\"Model checkpointed\")\n",
    "        print()"
   ]
  },
  {
   "cell_type": "markdown",
   "metadata": {},
   "source": [
    "---\n",
    "\n",
    "## Step 3: Test a Model on New Images\n",
    "\n",
    "To give yourself more insight into how your model is working, download at least five pictures of German traffic signs from the web and use your model to predict the traffic sign type.\n",
    "\n",
    "You may find `signnames.csv` useful as it contains mappings from the class id (integer) to the actual sign name."
   ]
  },
  {
   "cell_type": "markdown",
   "metadata": {},
   "source": [
    "### Make sure model restoration work as expected\n",
    "\n",
    "To initialize the model, run the blocks up to the section [Model Architecture](Traffic_Sign_Classifier.ipynb#Model-Architecture) first."
   ]
  },
  {
   "cell_type": "code",
   "execution_count": 63,
   "metadata": {
    "scrolled": false
   },
   "outputs": [
    {
     "name": "stdout",
     "output_type": "stream",
     "text": [
      "Model restored\n",
      "Test accurary 0.938480\n"
     ]
    }
   ],
   "source": [
    "tf.reset_default_graph()\n",
    "\n",
    "# First dimension is None to account for varying batch size\n",
    "x = tf.placeholder(tf.float32, np.concatenate((np.array([None]), image_shape)))\n",
    "y = tf.placeholder(tf.int32, (None))\n",
    "one_hot_y = tf.one_hot(y, n_classes)\n",
    "keep_prob = tf.placeholder(tf.float32)\n",
    "logits = LuoNet(x, keep_prob)\n",
    "\n",
    "correct_prediction = tf.equal(tf.argmax(logits, 1), tf.argmax(one_hot_y, 1))\n",
    "accuracy_operation = tf.reduce_mean(tf.cast(correct_prediction, tf.float32))\n",
    "saver = tf.train.Saver()\n",
    "\n",
    "def evaluate(X_data, y_data, bsize=128):\n",
    "    num_examples = len(X_data)\n",
    "    total_accuracy = 0\n",
    "    sess = tf.get_default_session()\n",
    "    for offset in range(0, num_examples, bsize):\n",
    "        batch_x, batch_y = X_data[offset:offset+bsize], y_data[offset:offset+bsize]\n",
    "        accuracy = sess.run(accuracy_operation, feed_dict={x: batch_x, y: batch_y, keep_prob: 1.0})\n",
    "        total_accuracy += (accuracy * len(batch_x))\n",
    "    return total_accuracy / num_examples\n",
    "\n",
    "with tf.Session() as sess:\n",
    "    saver.restore(sess, tf.train.latest_checkpoint('.'))\n",
    "    print('Model restored')\n",
    "    acc = evaluate(X_test_normalized, y_test)\n",
    "    print('Test accurary %f' % acc)"
   ]
  },
  {
   "cell_type": "markdown",
   "metadata": {},
   "source": [
    "### Load and Output the Images"
   ]
  },
  {
   "cell_type": "code",
   "execution_count": 36,
   "metadata": {},
   "outputs": [
    {
     "data": {
      "image/png": "[encoded data removed]",
      "text/plain": [
       "<matplotlib.figure.Figure at 0x7f2a7675cb38>"
      ]
     },
     "metadata": {
      "image/png": {
       "height": 88,
       "width": 90
      }
     },
     "output_type": "display_data"
    },
    {
     "data": {
      "image/png": "[encoded data removed]",
      "text/plain": [
       "<matplotlib.figure.Figure at 0x7f2a7f069390>"
      ]
     },
     "metadata": {
      "image/png": {
       "height": 88,
       "width": 90
      }
     },
     "output_type": "display_data"
    },
    {
     "data": {
      "image/png": "[encoded data removed]",
      "text/plain": [
       "<matplotlib.figure.Figure at 0x7f2a7f0854e0>"
      ]
     },
     "metadata": {
      "image/png": {
       "height": 88,
       "width": 90
      }
     },
     "output_type": "display_data"
    },
    {
     "data": {
      "image/png": "[encoded data removed]",
      "text/plain": [
       "<matplotlib.figure.Figure at 0x7f2a7ede5cc0>"
      ]
     },
     "metadata": {
      "image/png": {
       "height": 88,
       "width": 90
      }
     },
     "output_type": "display_data"
    },
    {
     "data": {
      "image/png": "[encoded data removed]",
      "text/plain": [
       "<matplotlib.figure.Figure at 0x7f2a7edd4320>"
      ]
     },
     "metadata": {
      "image/png": {
       "height": 88,
       "width": 90
      }
     },
     "output_type": "display_data"
    }
   ],
   "source": [
    "### Load the images and plot them here.\n",
    "### Feel free to use as many code cells as needed.\n",
    "import os\n",
    "import matplotlib.image as mpimg\n",
    "\n",
    "# The downloaded images are preprocessed to have 32*32*3 dimension.\n",
    "image_dir = 'images-from-web/resized'\n",
    "image_files = list(filter(lambda f: f.endswith('jpg'), os.listdir(image_dir)))\n",
    "new_test = np.ndarray(np.concatenate((np.array([len(image_files)]), image_shape)))\n",
    "for i, f in enumerate(image_files):\n",
    "    image = mpimg.imread(os.path.join(image_dir, f))\n",
    "    new_test[i] = image\n",
    "    plt.figure(figsize=(1,1))\n",
    "    plt.imshow(image)\n",
    "    \n",
    "new_label = np.array([28, 25, 40, 2, 8])"
   ]
  },
  {
   "cell_type": "markdown",
   "metadata": {},
   "source": [
    "### Predict the Sign Type for Each Image"
   ]
  },
  {
   "cell_type": "code",
   "execution_count": 34,
   "metadata": {},
   "outputs": [
    {
     "name": "stdout",
     "output_type": "stream",
     "text": [
      "Model restored\n",
      "label index 23, sign name: \"Slippery road\"\n",
      "label index 25, sign name: \"Road work\"\n",
      "label index 40, sign name: \"Roundabout mandatory\"\n",
      "label index  2, sign name: \"Speed limit (50km/h)\"\n",
      "label index  0, sign name: \"Speed limit (20km/h)\"\n"
     ]
    }
   ],
   "source": [
    "### Run the predictions here and use the model to output the prediction for each image.\n",
    "### Make sure to pre-process the images with the same pre-processing pipeline used earlier.\n",
    "### Feel free to use as many code cells as needed.\n",
    "\n",
    "# Normalize the test images\n",
    "new_test_normalized = normalize(new_test)   \n",
    "\n",
    "with tf.Session() as sess:\n",
    "    saver.restore(sess, tf.train.latest_checkpoint('.'))\n",
    "    print('Model restored')\n",
    "    predicted_labels = sess.run(tf.argmax(logits, 1), feed_dict={x: new_test_normalized, keep_prob: 1.0})\n",
    "    for i, s in list(map(lambda l: (l, signnames[l]), predicted_labels)):\n",
    "        print('label index %2d, sign name: \"%s\"' % (i, s))"
   ]
  },
  {
   "cell_type": "markdown",
   "metadata": {},
   "source": [
    "### Analyze Performance"
   ]
  },
  {
   "cell_type": "code",
   "execution_count": 37,
   "metadata": {},
   "outputs": [
    {
     "name": "stdout",
     "output_type": "stream",
     "text": [
      "Model restored\n",
      "Accurary 0.600000\n"
     ]
    }
   ],
   "source": [
    "### Calculate the accuracy for these 5 new images. \n",
    "### For example, if the model predicted 1 out of 5 signs correctly, it's 20% accurate on these new images.\n",
    "\n",
    "with tf.Session() as sess:\n",
    "    saver.restore(sess, tf.train.latest_checkpoint('.'))\n",
    "    print('Model restored')\n",
    "    accurary = evaluate(new_test_normalized, new_label)\n",
    "    print('Accurary %3f' % accurary)"
   ]
  },
  {
   "cell_type": "markdown",
   "metadata": {},
   "source": [
    "### Output Top 5 Softmax Probabilities For Each Image Found on the Web"
   ]
  },
  {
   "cell_type": "markdown",
   "metadata": {},
   "source": [
    "For each of the new images, print out the model's softmax probabilities to show the **certainty** of the model's predictions (limit the output to the top 5 probabilities for each image). [`tf.nn.top_k`](https://www.tensorflow.org/versions/r0.12/api_docs/python/nn.html#top_k) could prove helpful here. \n",
    "\n",
    "The example below demonstrates how tf.nn.top_k can be used to find the top k predictions for each image.\n",
    "\n",
    "`tf.nn.top_k` will return the values and indices (class ids) of the top k predictions. So if k=3, for each sign, it'll return the 3 largest probabilities (out of a possible 43) and the correspoding class ids.\n",
    "\n",
    "Take this numpy array as an example. The values in the array represent predictions. The array contains softmax probabilities for five candidate images with six possible classes. `tf.nn.top_k` is used to choose the three classes with the highest probability:\n",
    "\n",
    "```\n",
    "# (5, 6) array\n",
    "a = np.array([[ 0.24879643,  0.07032244,  0.12641572,  0.34763842,  0.07893497,\n",
    "         0.12789202],\n",
    "       [ 0.28086119,  0.27569815,  0.08594638,  0.0178669 ,  0.18063401,\n",
    "         0.15899337],\n",
    "       [ 0.26076848,  0.23664738,  0.08020603,  0.07001922,  0.1134371 ,\n",
    "         0.23892179],\n",
    "       [ 0.11943333,  0.29198961,  0.02605103,  0.26234032,  0.1351348 ,\n",
    "         0.16505091],\n",
    "       [ 0.09561176,  0.34396535,  0.0643941 ,  0.16240774,  0.24206137,\n",
    "         0.09155967]])\n",
    "```\n",
    "\n",
    "Running it through `sess.run(tf.nn.top_k(tf.constant(a), k=3))` produces:\n",
    "\n",
    "```\n",
    "TopKV2(values=array([[ 0.34763842,  0.24879643,  0.12789202],\n",
    "       [ 0.28086119,  0.27569815,  0.18063401],\n",
    "       [ 0.26076848,  0.23892179,  0.23664738],\n",
    "       [ 0.29198961,  0.26234032,  0.16505091],\n",
    "       [ 0.34396535,  0.24206137,  0.16240774]]), indices=array([[3, 0, 5],\n",
    "       [0, 1, 4],\n",
    "       [0, 5, 1],\n",
    "       [1, 3, 5],\n",
    "       [1, 4, 3]], dtype=int32))\n",
    "```\n",
    "\n",
    "Looking just at the first row we get `[ 0.34763842,  0.24879643,  0.12789202]`, you can confirm these are the 3 largest probabilities in `a`. You'll also notice `[3, 0, 5]` are the corresponding indices."
   ]
  },
  {
   "cell_type": "code",
   "execution_count": 64,
   "metadata": {},
   "outputs": [
    {
     "name": "stdout",
     "output_type": "stream",
     "text": [
      "Model restored\n",
      "Image 1:\n",
      "  0.5617  \"Slippery road\"\n",
      "  0.2833  \"Children crossing\"\n",
      "  0.1242  \"Beware of ice/snow\"\n",
      "  0.0107  \"Bicycles crossing\"\n",
      "  0.0090  \"Dangerous curve to the left\"\n",
      "Image 2:\n",
      "  1.0000  \"Road work\"\n",
      "  0.0000  \"Dangerous curve to the right\"\n",
      "  0.0000  \"Beware of ice/snow\"\n",
      "  0.0000  \"General caution\"\n",
      "  0.0000  \"Traffic signals\"\n",
      "Image 3:\n",
      "  1.0000  \"Roundabout mandatory\"\n",
      "  0.0000  \"Keep left\"\n",
      "  0.0000  \"Turn right ahead\"\n",
      "  0.0000  \"Go straight or left\"\n",
      "  0.0000  \"Keep right\"\n",
      "Image 4:\n",
      "  1.0000  \"Speed limit (50km/h)\"\n",
      "  0.0000  \"Speed limit (80km/h)\"\n",
      "  0.0000  \"Speed limit (30km/h)\"\n",
      "  0.0000  \"Speed limit (60km/h)\"\n",
      "  0.0000  \"Speed limit (100km/h)\"\n",
      "Image 5:\n",
      "  0.4939  \"Speed limit (20km/h)\"\n",
      "  0.3905  \"Speed limit (30km/h)\"\n",
      "  0.1011  \"Speed limit (70km/h)\"\n",
      "  0.0144  \"Speed limit (120km/h)\"\n",
      "  0.0000  \"Speed limit (50km/h)\"\n"
     ]
    }
   ],
   "source": [
    "### Print out the top five softmax probabilities for the predictions on the German traffic sign images found on the web. \n",
    "### Feel free to use as many code cells as needed.\n",
    "\n",
    "with tf.Session() as sess:\n",
    "    saver.restore(sess, tf.train.latest_checkpoint('.'))\n",
    "    print('Model restored')\n",
    "    top5 = sess.run(tf.nn.top_k(tf.nn.softmax(logits), 5), feed_dict={x: new_test_normalized, keep_prob: 1.0})\n",
    "    for image_idx in range(top5.indices.shape[0]):\n",
    "        print(\"Image %d:\" % (image_idx + 1))\n",
    "        names = [signnames[x] for x in top5.indices[image_idx]]\n",
    "        certainty = top5.values[image_idx]\n",
    "        for c, n in zip(certainty, names):\n",
    "            print('  %.4f  \"%s\"' % (c, n))"
   ]
  },
  {
   "cell_type": "markdown",
   "metadata": {},
   "source": [
    "### Project Writeup\n",
    "\n",
    "Once you have completed the code implementation, document your results in a project writeup using this [template](https://github.com/udacity/CarND-Traffic-Sign-Classifier-Project/blob/master/writeup_template.md) as a guide. The writeup can be in a markdown or pdf file. "
   ]
  },
  {
   "cell_type": "markdown",
   "metadata": {},
   "source": [
    "> **Note**: Once you have completed all of the code implementations and successfully answered each question above, you may finalize your work by exporting the iPython Notebook as an HTML document. You can do this by using the menu above and navigating to  \\n\",\n",
    "    \"**File -> Download as -> HTML (.html)**. Include the finished document along with this notebook as your submission."
   ]
  },
  {
   "cell_type": "markdown",
   "metadata": {},
   "source": [
    "---\n",
    "\n",
    "## Step 4 (Optional): Visualize the Neural Network's State with Test Images\n",
    "\n",
    " This Section is not required to complete but acts as an additional excersise for understaning the output of a neural network's weights. While neural networks can be a great learning device they are often referred to as a black box. We can understand what the weights of a neural network look like better by plotting their feature maps. After successfully training your neural network you can see what it's feature maps look like by plotting the output of the network's weight layers in response to a test stimuli image. From these plotted feature maps, it's possible to see what characteristics of an image the network finds interesting. For a sign, maybe the inner network feature maps react with high activation to the sign's boundary outline or to the contrast in the sign's painted symbol.\n",
    "\n",
    " Provided for you below is the function code that allows you to get the visualization output of any tensorflow weight layer you want. The inputs to the function should be a stimuli image, one used during training or a new one you provided, and then the tensorflow variable name that represents the layer's state during the training process, for instance if you wanted to see what the [LeNet lab's](https://classroom.udacity.com/nanodegrees/nd013/parts/fbf77062-5703-404e-b60c-95b78b2f3f9e/modules/6df7ae49-c61c-4bb2-a23e-6527e69209ec/lessons/601ae704-1035-4287-8b11-e2c2716217ad/concepts/d4aca031-508f-4e0b-b493-e7b706120f81) feature maps looked like for it's second convolutional layer you could enter conv2 as the tf_activation variable.\n",
    "\n",
    "For an example of what feature map outputs look like, check out NVIDIA's results in their paper [End-to-End Deep Learning for Self-Driving Cars](https://devblogs.nvidia.com/parallelforall/deep-learning-self-driving-cars/) in the section Visualization of internal CNN State. NVIDIA was able to show that their network's inner weights had high activations to road boundary lines by comparing feature maps from an image with a clear path to one without. Try experimenting with a similar test to show that your trained network's weights are looking for interesting features, whether it's looking at differences in feature maps from images with or without a sign, or even what feature maps look like in a trained network vs a completely untrained one on the same sign image.\n",
    "\n",
    "<figure>\n",
    " <img src=\"visualize_cnn.png\" width=\"380\" alt=\"Combined Image\" />\n",
    " <figcaption>\n",
    " <p></p> \n",
    " <p style=\"text-align: center;\"> Your output should look something like this (above)</p> \n",
    " </figcaption>\n",
    "</figure>\n",
    " <p></p> \n"
   ]
  },
  {
   "cell_type": "code",
   "execution_count": null,
   "metadata": {
    "collapsed": true
   },
   "outputs": [],
   "source": [
    "### Visualize your network's feature maps here.\n",
    "### Feel free to use as many code cells as needed.\n",
    "\n",
    "# image_input: the test image being fed into the network to produce the feature maps\n",
    "# tf_activation: should be a tf variable name used during your training procedure that represents the calculated state of a specific weight layer\n",
    "# activation_min/max: can be used to view the activation contrast in more detail, by default matplot sets min and max to the actual min and max values of the output\n",
    "# plt_num: used to plot out multiple different weight feature map sets on the same block, just extend the plt number for each new feature map entry\n",
    "\n",
    "def outputFeatureMap(image_input, tf_activation, activation_min=-1, activation_max=-1 ,plt_num=1):\n",
    "    # Here make sure to preprocess your image_input in a way your network expects\n",
    "    # with size, normalization, ect if needed\n",
    "    # image_input =\n",
    "    # Note: x should be the same name as your network's tensorflow data placeholder variable\n",
    "    # If you get an error tf_activation is not defined it may be having trouble accessing the variable from inside a function\n",
    "    activation = tf_activation.eval(session=sess,feed_dict={x : image_input})\n",
    "    featuremaps = activation.shape[3]\n",
    "    plt.figure(plt_num, figsize=(15,15))\n",
    "    for featuremap in range(featuremaps):\n",
    "        plt.subplot(6,8, featuremap+1) # sets the number of feature maps to show on each row and column\n",
    "        plt.title('FeatureMap ' + str(featuremap)) # displays the feature map number\n",
    "        if activation_min != -1 & activation_max != -1:\n",
    "            plt.imshow(activation[0,:,:, featuremap], interpolation=\"nearest\", vmin=activation_min, vmax=activation_max, cmap=\"gray\")\n",
    "        elif activation_max != -1:\n",
    "            plt.imshow(activation[0,:,:, featuremap], interpolation=\"nearest\", vmax=activation_max, cmap=\"gray\")\n",
    "        elif activation_min !=-1:\n",
    "            plt.imshow(activation[0,:,:, featuremap], interpolation=\"nearest\", vmin=activation_min, cmap=\"gray\")\n",
    "        else:\n",
    "            plt.imshow(activation[0,:,:, featuremap], interpolation=\"nearest\", cmap=\"gray\")"
   ]
  }
 ],
 "metadata": {
  "anaconda-cloud": {},
  "kernelspec": {
   "display_name": "Python 3",
   "language": "python",
   "name": "python3"
  },
  "language_info": {
   "codemirror_mode": {
    "name": "ipython",
    "version": 3
   },
   "file_extension": ".py",
   "mimetype": "text/x-python",
   "name": "python",
   "nbconvert_exporter": "python",
   "pygments_lexer": "ipython3",
   "version": "3.5.2"
  },
  "widgets": {
   "state": {},
   "version": "1.1.2"
  }
 },
 "nbformat": 4,
 "nbformat_minor": 1
}
